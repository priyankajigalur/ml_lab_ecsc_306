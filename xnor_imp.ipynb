{
 "cells": [
  {
   "cell_type": "code",
   "execution_count": 4,
   "metadata": {},
   "outputs": [
    {
     "name": "stdout",
     "output_type": "stream",
     "text": [
      "Validating output for AND GATE\n",
      "[[ 0.00471882]\n",
      " [ 0.12759537]\n",
      " [ 0.12779485]\n",
      " [ 0.81883568]]\n"
     ]
    }
   ],
   "source": [
    "import tensorflow as tf\n",
    "import numpy as np\n",
    "x=tf.placeholder(tf.float32,shape=[None,2])\n",
    "y=tf.placeholder(tf.float32,shape=[None,1])\n",
    "\n",
    "weights=tf.Variable(tf.random_normal([2,1]),dtype=tf.float32)\n",
    "bias=tf.Variable(tf.random_normal([1]),dtype=tf.float32)\n",
    "\n",
    "\n",
    "\n",
    "multiply1=tf.add(tf.matmul(x,weights),bias)\n",
    "z=tf.nn.sigmoid(multiply1)\n",
    "\n",
    "\n",
    "cost=tf.reduce_mean((y*tf.log(z)+(1-y)*tf.log(1-z))*-1)\n",
    "optimizer = tf.train.GradientDescentOptimizer(0.01).minimize(cost)\n",
    "\n",
    "inp=np.array([[0,0],[0,1],[1,0],[1,1]])\n",
    "\n",
    "\n",
    "with tf.Session() as sess_and:\n",
    "    op_and=np.array([[0],[0],[0],[1]])\n",
    "    \n",
    "    tf.global_variables_initializer().run()\n",
    "    for i in range(12001):\n",
    "        res,_=sess_and.run([cost,optimizer],feed_dict={x:inp,y:op_and})\n",
    "        \n",
    "    print (\"Validating output for AND GATE\")\n",
    "    result_and=sess_and.run(z,feed_dict={x:inp})\n",
    "    print (result_and)\n"
   ]
  },
  {
   "cell_type": "code",
   "execution_count": 6,
   "metadata": {},
   "outputs": [
    {
     "name": "stdout",
     "output_type": "stream",
     "text": [
      "Validating output for AND GATE\n",
      "[[ 0.805834  ]\n",
      " [ 0.07443137]\n",
      " [ 0.07594939]\n",
      " [ 0.00159006]]\n"
     ]
    }
   ],
   "source": [
    "with tf.Session() as sess_not:\n",
    "    op_not=np.array([[1],[0],[0],[0]])\n",
    "    \n",
    "    tf.global_variables_initializer().run()\n",
    "    for i in range(12001):\n",
    "        res,_=sess_not.run([cost,optimizer],feed_dict={x:inp,y:op_not})\n",
    "        \n",
    "    print (\"Validating output for NOT(X1) AND NOT(X2) GATE\")\n",
    "    result_not=sess_not.run(z,feed_dict={x:inp})\n",
    "    print (result_not)\n"
   ]
  },
  {
   "cell_type": "code",
   "execution_count": 9,
   "metadata": {},
   "outputs": [
    {
     "name": "stdout",
     "output_type": "stream",
     "text": [
      "[[ 1.]\n",
      " [ 0.]\n",
      " [ 0.]\n",
      " [ 0.]]\n"
     ]
    }
   ],
   "source": [
    "print(result_not)"
   ]
  },
  {
   "cell_type": "code",
   "execution_count": 10,
   "metadata": {},
   "outputs": [
    {
     "name": "stdout",
     "output_type": "stream",
     "text": [
      "[[ 0.00471882]\n",
      " [ 0.12759537]\n",
      " [ 0.12779485]\n",
      " [ 0.81883568]]\n"
     ]
    }
   ],
   "source": [
    "print(result_and)"
   ]
  },
  {
   "cell_type": "code",
   "execution_count": 11,
   "metadata": {},
   "outputs": [
    {
     "name": "stdout",
     "output_type": "stream",
     "text": [
      "[[ 0.]\n",
      " [ 0.]\n",
      " [ 0.]\n",
      " [ 1.]]\n"
     ]
    }
   ],
   "source": [
    "for i in range(4):\n",
    "    if result_and[i] < 0.5:\n",
    "        result_and[i] = 0\n",
    "    else:\n",
    "        result_and[i] = 1\n",
    "        \n",
    "print(result_and)"
   ]
  },
  {
   "cell_type": "code",
   "execution_count": 12,
   "metadata": {},
   "outputs": [
    {
     "name": "stdout",
     "output_type": "stream",
     "text": [
      "[[ 1.]\n",
      " [ 0.]\n",
      " [ 0.]\n",
      " [ 0.]]\n"
     ]
    }
   ],
   "source": [
    "for i in range(4):\n",
    "    if result_not[i] < 0.5:\n",
    "        result_not[i] = 0\n",
    "    else:\n",
    "        result_not[i] = 1\n",
    "        \n",
    "print(result_not)"
   ]
  },
  {
   "cell_type": "code",
   "execution_count": 16,
   "metadata": {},
   "outputs": [
    {
     "name": "stdout",
     "output_type": "stream",
     "text": [
      "[[ 0.  1.]\n",
      " [ 0.  0.]\n",
      " [ 0.  0.]\n",
      " [ 1.  0.]]\n"
     ]
    }
   ],
   "source": [
    "inp_new = np.concatenate([result_and,result_not],axis = 1)\n",
    "print(inp_new)"
   ]
  },
  {
   "cell_type": "code",
   "execution_count": 17,
   "metadata": {},
   "outputs": [
    {
     "name": "stdout",
     "output_type": "stream",
     "text": [
      "Validating output for AND GATE\n",
      "[[ 0.9401263 ]\n",
      " [ 0.07582489]\n",
      " [ 0.07582489]\n",
      " [ 0.93878108]]\n"
     ]
    }
   ],
   "source": [
    "with tf.Session() as sess_or:\n",
    "    op_or=np.array([[1],[0],[0],[1]])\n",
    "    \n",
    "    tf.global_variables_initializer().run()\n",
    "    for i in range(12001):\n",
    "        res,_=sess_or.run([cost,optimizer],feed_dict={x:inp_new,y:op_or})\n",
    "        \n",
    "    print (\"Validating output for AND GATE\")\n",
    "    result_or=sess_or.run(z,feed_dict={x:inp_new})\n",
    "    print (result_or)\n"
   ]
  },
  {
   "cell_type": "code",
   "execution_count": null,
   "metadata": {
    "collapsed": true
   },
   "outputs": [],
   "source": []
  }
 ],
 "metadata": {
  "kernelspec": {
   "display_name": "Python 3",
   "language": "python",
   "name": "python3"
  },
  "language_info": {
   "codemirror_mode": {
    "name": "ipython",
    "version": 3
   },
   "file_extension": ".py",
   "mimetype": "text/x-python",
   "name": "python",
   "nbconvert_exporter": "python",
   "pygments_lexer": "ipython3",
   "version": "3.6.1"
  }
 },
 "nbformat": 4,
 "nbformat_minor": 2
}
