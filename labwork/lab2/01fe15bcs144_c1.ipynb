{
 "cells": [
  {
   "cell_type": "code",
   "execution_count": 1,
   "metadata": {},
   "outputs": [
    {
     "ename": "SyntaxError",
     "evalue": "invalid syntax (<ipython-input-1-9f566327c356>, line 9)",
     "output_type": "error",
     "traceback": [
      "\u001b[0;36m  File \u001b[0;32m\"<ipython-input-1-9f566327c356>\"\u001b[0;36m, line \u001b[0;32m9\u001b[0m\n\u001b[0;31m    2.mean of x and y\u001b[0m\n\u001b[0m         ^\u001b[0m\n\u001b[0;31mSyntaxError\u001b[0m\u001b[0;31m:\u001b[0m invalid syntax\n"
     ]
    }
   ],
   "source": [
    "#Read 2 arrays x,y containing floating point value\n",
    "import tensorflow as tf\n",
    "\n",
    "a=tf.constant([1,5,6,3,5,6,8,4.0])\n",
    "b=tf.constant([3,6,7,8,9.0,5,6,4])\n",
    "\n",
    "#mean of x and y\n",
    "x=tf.reduce_mean(a)\n",
    "y=tf.reduce_mean(b)\n",
    "\n",
    "#varience of x\n",
    "v_x= tf.add(a,-x)\n",
    "#y=tf.multiply(x,x)\n",
    "sess.run(v_x)\n",
    "\n",
    "v_x1=tf.multiply(v_x,v_x)\n",
    "sess.run(v_x1)\n",
    "\n",
    "g=tf.reduce_sum(v_x1)\n",
    "g=tf.to_float(g)\n",
    "sess.run(g)\n",
    "\n",
    "i=tf.count_nonzero(a)\n",
    "i=tf.to_float(i)\n",
    "sess.run(i+1)\n",
    "\n",
    "\n",
    "variance=tf.div(g,i)\n",
    "sess.run(variance)\n",
    "            \n",
    "#covariance = sum((x(i) - mean(x)) * (y(i) - mean(y)))         \n",
    "j=tf.substract(b,y)\n",
    "k=tf.multiply(v_x,j)\n",
    "covariance=tf.reduce_sum(k)\n",
    "sess.run(covariance)\n",
    "            \n",
    "#m=covariance(x,y)/variance(x)         \n",
    "m = tf.div(covariance,variance)\n",
    "sess.run(m)\n",
    "\n",
    "# c=mean(y)-m*mean(x)\n",
    "c=tf.subtract(y,tf.multiply(m,x))\n",
    "sess.run(c)\n",
    "\n",
    "# y = mx+c\n",
    "slope=tf.add(tf.multiply(m,x),c)\n",
    "sess.run(slope)\n",
    "    \n",
    "\n",
    "print(\"Mean of x: \",sess.run(x))\n",
    "print(\"Mean of y: \",sess.run(y))\n",
    "print(\"Variance of x: \",sess.run(variance))\n",
    "print(\"covariance(x,y): \",sess.run(covariance))\n",
    "print(\"Value of m: \",sess.run(m))\n",
    "print(\"Value of c: \",sess.run(c))\n",
    "print(\"Value of y1: \",sess.run(slope))\n",
    "\n",
    "    \n"
   ]
  }
 ],
 "metadata": {
  "kernelspec": {
   "display_name": "Python 3",
   "language": "python",
   "name": "python3"
  },
  "language_info": {
   "codemirror_mode": {
    "name": "ipython",
    "version": 3
   },
   "file_extension": ".py",
   "mimetype": "text/x-python",
   "name": "python",
   "nbconvert_exporter": "python",
   "pygments_lexer": "ipython3",
   "version": "3.6.1"
  }
 },
 "nbformat": 4,
 "nbformat_minor": 2
}
