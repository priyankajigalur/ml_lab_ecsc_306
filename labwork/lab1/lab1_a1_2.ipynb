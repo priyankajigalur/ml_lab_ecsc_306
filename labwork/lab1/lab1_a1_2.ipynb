{
 "cells": [
  {
   "cell_type": "code",
   "execution_count": 13,
   "metadata": {},
   "outputs": [],
   "source": [
    "import tensorflow as tf\n",
    "\n",
    "tf.reset_default_graph()\n",
    "\n",
    "with tf.name_scope(\"lab1_a1_2\"):\n",
    "    with tf.name_scope(\"Scope_A\"):\n",
    "        a = tf.placeholder(tf.float32, name=\"a\")\n",
    "        b = tf.placeholder(tf.float32, name=\"b\")\n",
    "\n",
    "        c = tf.placeholder(tf.float32, name=\"c\")\n",
    "    with tf.name_scope(\"Scope_B\"):\n",
    "        aa = tf.matmul(a,a,name=\"a_2\")\n",
    "        bb = tf.matmul(b,b,name=\"b_2\")\n",
    "\n",
    "        cc = tf.matmul(c,c,name=\"c_2\")\n",
    "\n",
    "    with tf.name_scope(\"Scope_C\"):\n",
    "        ab2 = a * b * 2\n",
    "\n",
    "        bc2 = c * b * 2\n",
    "\n",
    "        ca2 = a * c * 2\n",
    "    with tf.name_scope(\"Scope_D\"):\n",
    "        c = aa + bb + cc - ab2 - bc2 + ca2 "
   ]
  },
  {
   "cell_type": "code",
   "execution_count": 14,
   "metadata": {
    "collapsed": true
   },
   "outputs": [],
   "source": [
    "with tf.Session() as sess:\n",
    "    writer = tf.summary.FileWriter(\"/tmp/tboard/output3\", sess.graph)\n",
    "    writer.close()"
   ]
  }
 ],
 "metadata": {
  "kernelspec": {
   "display_name": "Python 3",
   "language": "python",
   "name": "python3"
  },
  "language_info": {
   "codemirror_mode": {
    "name": "ipython",
    "version": 3
   },
   "file_extension": ".py",
   "mimetype": "text/x-python",
   "name": "python",
   "nbconvert_exporter": "python",
   "pygments_lexer": "ipython3",
   "version": "3.6.1"
  }
 },
 "nbformat": 4,
 "nbformat_minor": 2
}
