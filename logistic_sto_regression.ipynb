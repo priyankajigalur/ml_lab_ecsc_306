{
 "cells": [
  {
   "cell_type": "code",
   "execution_count": 2,
   "metadata": {},
   "outputs": [],
   "source": [
    "import tensorflow as tf\n",
    "import matplotlib.pyplot as plt\n"
   ]
  },
  {
   "cell_type": "code",
   "execution_count": 17,
   "metadata": {},
   "outputs": [],
   "source": [
    "#Learning rate=.3\n",
    "x1=tf.constant([1.0,2.0,3.0,4.0,5.0],name='f')\n",
    "x2=tf.constant([3.0,1.0,2.0,4.0,5.0],name='s')"
   ]
  },
  {
   "cell_type": "code",
   "execution_count": null,
   "metadata": {},
   "outputs": [
    {
     "name": "stdout",
     "output_type": "stream",
     "text": [
      "ERROR:tensorflow:==================================\n",
      "Object was never used (type <class 'tensorflow.python.ops.tensor_array_ops.TensorArray'>):\n",
      "<tensorflow.python.ops.tensor_array_ops.TensorArray object at 0x7fed0a7b1ef0>\n",
      "If you want to mark it as used call its \"mark_used()\" method.\n",
      "It was originally created here:\n",
      "['File \"/Anaconda/anaconda3/lib/python3.6/runpy.py\", line 193, in _run_module_as_main\\n    \"__main__\", mod_spec)', 'File \"/Anaconda/anaconda3/lib/python3.6/runpy.py\", line 85, in _run_code\\n    exec(code, run_globals)', 'File \"/Anaconda/anaconda3/lib/python3.6/site-packages/ipykernel_launcher.py\", line 16, in <module>\\n    app.launch_new_instance()', 'File \"/Anaconda/anaconda3/lib/python3.6/site-packages/traitlets/config/application.py\", line 658, in launch_instance\\n    app.start()', 'File \"/Anaconda/anaconda3/lib/python3.6/site-packages/ipykernel/kernelapp.py\", line 477, in start\\n    ioloop.IOLoop.instance().start()', 'File \"/Anaconda/anaconda3/lib/python3.6/site-packages/zmq/eventloop/ioloop.py\", line 177, in start\\n    super(ZMQIOLoop, self).start()', 'File \"/Anaconda/anaconda3/lib/python3.6/site-packages/tornado/ioloop.py\", line 888, in start\\n    handler_func(fd_obj, events)', 'File \"/Anaconda/anaconda3/lib/python3.6/site-packages/tornado/stack_context.py\", line 277, in null_wrapper\\n    return fn(*args, **kwargs)', 'File \"/Anaconda/anaconda3/lib/python3.6/site-packages/zmq/eventloop/zmqstream.py\", line 440, in _handle_events\\n    self._handle_recv()', 'File \"/Anaconda/anaconda3/lib/python3.6/site-packages/zmq/eventloop/zmqstream.py\", line 472, in _handle_recv\\n    self._run_callback(callback, msg)', 'File \"/Anaconda/anaconda3/lib/python3.6/site-packages/zmq/eventloop/zmqstream.py\", line 414, in _run_callback\\n    callback(*args, **kwargs)', 'File \"/Anaconda/anaconda3/lib/python3.6/site-packages/tornado/stack_context.py\", line 277, in null_wrapper\\n    return fn(*args, **kwargs)', 'File \"/Anaconda/anaconda3/lib/python3.6/site-packages/ipykernel/kernelbase.py\", line 283, in dispatcher\\n    return self.dispatch_shell(stream, msg)', 'File \"/Anaconda/anaconda3/lib/python3.6/site-packages/ipykernel/kernelbase.py\", line 235, in dispatch_shell\\n    handler(stream, idents, msg)', 'File \"/Anaconda/anaconda3/lib/python3.6/site-packages/ipykernel/kernelbase.py\", line 399, in execute_request\\n    user_expressions, allow_stdin)', 'File \"/Anaconda/anaconda3/lib/python3.6/site-packages/ipykernel/ipkernel.py\", line 196, in do_execute\\n    res = shell.run_cell(code, store_history=store_history, silent=silent)', 'File \"/Anaconda/anaconda3/lib/python3.6/site-packages/ipykernel/zmqshell.py\", line 533, in run_cell\\n    return super(ZMQInteractiveShell, self).run_cell(*args, **kwargs)', 'File \"/Anaconda/anaconda3/lib/python3.6/site-packages/IPython/core/interactiveshell.py\", line 2717, in run_cell\\n    interactivity=interactivity, compiler=compiler, result=result)', 'File \"/Anaconda/anaconda3/lib/python3.6/site-packages/IPython/core/interactiveshell.py\", line 2821, in run_ast_nodes\\n    if self.run_code(code, result):', 'File \"/Anaconda/anaconda3/lib/python3.6/site-packages/IPython/core/interactiveshell.py\", line 2881, in run_code\\n    exec(code_obj, self.user_global_ns, self.user_ns)', 'File \"<ipython-input-37-e937f7f0fa65>\", line 27, in <module>\\n    theta=theta.write(l*2,t2)', 'File \"/Anaconda/anaconda3/lib/python3.6/site-packages/tensorflow/python/util/tf_should_use.py\", line 88, in fn\\n    return method(self, *args, **kwargs)', 'File \"/Anaconda/anaconda3/lib/python3.6/site-packages/tensorflow/python/util/tf_should_use.py\", line 170, in wrapped\\n    return _add_should_use_warning(fn(*args, **kwargs))', 'File \"/Anaconda/anaconda3/lib/python3.6/site-packages/tensorflow/python/util/tf_should_use.py\", line 139, in _add_should_use_warning\\n    wrapped = TFShouldUseWarningWrapper(x)', 'File \"/Anaconda/anaconda3/lib/python3.6/site-packages/tensorflow/python/util/tf_should_use.py\", line 96, in __init__\\n    stack = [s.strip() for s in traceback.format_stack()]']\n",
      "==================================\n",
      "epoch value: 20\n",
      "theta0: 0.0\n",
      "theta1: 0.0\n",
      "theta2: 0.0\n",
      "error:  1.25\n",
      "epoch value: 40\n",
      "theta0: 0.0\n",
      "theta1: 0.0\n",
      "theta2: 0.0\n",
      "error:  1.25\n",
      "epoch value: 60\n",
      "theta0: 0.0\n",
      "theta1: 0.0\n",
      "theta2: 0.0\n",
      "error:  1.25\n",
      "epoch value: 80\n",
      "theta0: 0.0\n",
      "theta1: 0.0\n",
      "theta2: 0.0\n",
      "error:  1.25\n",
      "epoch value: 100\n",
      "theta0: 0.0\n",
      "theta1: 0.0\n",
      "theta2: 0.0\n"
     ]
    }
   ],
   "source": [
    "y=tf.constant([0.0,1.0,0.0,0.0,0.0],name='o')\n",
    "epoch=tf.constant(100)\n",
    "z=tf.constant([20.0,40.0,60.0,80.0,100.0])\n",
    "lr=0.3\n",
    "k=0\n",
    "l=0\n",
    "tO=0.0\n",
    "t1=0.0\n",
    "t2=0.0\n",
    "T=epoch/20\n",
    "model=tf.global_variables_initializer()\n",
    "with tf.Session()as sess:\n",
    "    sess.run(model)\n",
    "    output=tf.TensorArray(size=tf.cast(T,tf.int32),dtype=tf.float32)\n",
    "    theta=tf.TensorArray(size=3,dtype=tf.float32)\n",
    "    for j in range(sess.run(epoch)):\n",
    "        sum_err=0\n",
    "        for i in range(sess.run(tf.size(x1))):\n",
    "            yhat=1.0/(1.0+tf.exp(-tO-(t1*x1[i])-(t2*x2[i])))\n",
    "            error = y[i] - yhat\n",
    "            sum_err=sum_err+tf.square(error)\n",
    "            tO=tO * lr* error * yhat*(1.0-yhat)\n",
    "            theta=theta.write(l,tO)\n",
    "            t1=t1 * lr *error * yhat*(1.0-yhat*x1[i])\n",
    "            theta=theta.write(l*1,t1)\n",
    "            t2=t2 * lr *error * yhat*(1.0-yhat*x2[i])\n",
    "            theta=theta.write(l*2,t2)\n",
    "        if(j+1)%20==0:\n",
    "            print(\"epoch value:\",(j+1))\n",
    "            print(\"theta0:\",sess.run(tO))\n",
    "            print(\"theta1:\",sess.run(t1))\n",
    "            print(\"theta2:\",sess.run(t2))\n",
    "            print(\"error: \",sess.run(sum_err))\n",
    "            output=output.write(k,sum_err)\n",
    "            k=k+1\n",
    "    output_final=output.stack()\n",
    "    \n",
    "    a=sess.run(output_final)\n",
    "    plt.plot(sess.run(z),a,label='epoch-cost')\n",
    "    plt.legend()\n",
    "    plt.show()\n",
    "                        "
   ]
  },
  {
   "cell_type": "code",
   "execution_count": null,
   "metadata": {
    "collapsed": true
   },
   "outputs": [],
   "source": []
  },
  {
   "cell_type": "code",
   "execution_count": null,
   "metadata": {
    "collapsed": true
   },
   "outputs": [],
   "source": []
  }
 ],
 "metadata": {
  "kernelspec": {
   "display_name": "Python 3",
   "language": "python",
   "name": "python3"
  },
  "language_info": {
   "codemirror_mode": {
    "name": "ipython",
    "version": 3
   },
   "file_extension": ".py",
   "mimetype": "text/x-python",
   "name": "python",
   "nbconvert_exporter": "python",
   "pygments_lexer": "ipython3",
   "version": "3.6.1"
  }
 },
 "nbformat": 4,
 "nbformat_minor": 2
}
