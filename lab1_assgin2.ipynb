{
 "cells": [
  {
   "cell_type": "code",
   "execution_count": 13,
   "metadata": {},
   "outputs": [
    {
     "name": "stdout",
     "output_type": "stream",
     "text": [
      "Mean of x:  4.75\n",
      "Mean of y:  6.0\n",
      "Variance of x:  [ 3.9375]\n",
      "covariance(x,y):  10.0\n",
      "Value of m:  [ 2.53968263]\n",
      "Value of c:  [-6.06349277]\n",
      "Value of y1:  [  1.55555534   9.17460346  11.71428585  14.25396824  16.79365158\n",
      "   6.63492012   9.17460346   4.09523773]\n"
     ]
    }
   ],
   "source": [
    "#Read 2 arrays x,y containing floating point value\n",
    "import tensorflow as tf\n",
    "\n",
    "sess = tf.Session()\n",
    "\n",
    "a=tf.constant([1.0,5.0,6.0,3.0,5.0,6.0,8.0,4.0])\n",
    "b=tf.constant([3.0,6.0,7.0,8.0,9.0,5.0,6.0,4.0])\n",
    "\n",
    "#mean of x and y\n",
    "x=tf.reduce_mean(a)\n",
    "y=tf.reduce_mean(b)\n",
    "\n",
    "#varience of x\n",
    "v_x= tf.add(a,-x)\n",
    "#y=tf.multiply(x,x)\n",
    "sess.run(v_x)\n",
    "\n",
    "v_x1=tf.multiply(v_x,v_x)\n",
    "sess.run(v_x1)\n",
    "\n",
    "g=tf.reduce_sum(v_x1)\n",
    "g=tf.to_float(g)\n",
    "sess.run(g)\n",
    "\n",
    "i = b.get_shape()\n",
    "i=tf.to_float(i)\n",
    "\n",
    "variance=tf.div(g,i)\n",
    "sess.run(variance)\n",
    "            \n",
    "#covariance = sum((x(i) - mean(x)) * (y(i) - mean(y)))         \n",
    "j=tf.subtract(a,x)\n",
    "k=tf.subtract(b,y)\n",
    "p=tf.multiply(j,k)\n",
    "covariance=tf.reduce_sum(p)\n",
    "sess.run(covariance)\n",
    "            \n",
    "#m=covariance(x,y)/variance(x)         \n",
    "m = tf.div(covariance,variance)\n",
    "sess.run(m)\n",
    "\n",
    "# c=mean(y)-m*mean(x)\n",
    "c=tf.subtract(y,tf.multiply(m,x))\n",
    "sess.run(c)\n",
    "\n",
    "# y = mx+c\n",
    "slope=tf.add(tf.multiply(m,b),c)\n",
    "sess.run(slope)\n",
    "    \n",
    "\n",
    "print(\"Mean of x: \",sess.run(x))\n",
    "print(\"Mean of y: \",sess.run(y))\n",
    "print(\"Variance of x: \",sess.run(variance))\n",
    "print(\"covariance(x,y): \",sess.run(covariance))\n",
    "print(\"Value of m: \",sess.run(m))\n",
    "print(\"Value of c: \",sess.run(c))\n",
    "print(\"Value of y1: \",sess.run(slope))\n",
    "\n",
    "    \n"
   ]
  },
  {
   "cell_type": "code",
   "execution_count": 15,
   "metadata": {},
   "outputs": [
    {
     "name": "stdout",
     "output_type": "stream",
     "text": [
      "Value of y:  [ 3.  6.  7.  8.  9.  5.  6.  4.]\n",
      "Value of y1:  [  1.55555534   9.17460346  11.71428585  14.25396824  16.79365158\n",
      "   6.63492012   9.17460346   4.09523773]\n"
     ]
    },
    {
     "data": {
      "image/png": "[encoded data removed]",
      "text/plain": [
       "<matplotlib.figure.Figure at 0x7f7560833dd8>"
      ]
     },
     "metadata": {},
     "output_type": "display_data"
    },
    {
     "name": "stdout",
     "output_type": "stream",
     "text": [
      "Root mean square error: 4.28664\n"
     ]
    }
   ],
   "source": [
    "import matplotlib.pyplot  as plt\n",
    "\n",
    "val1=tf.constant(0.0)\n",
    "err1=tf.constant(0.0)\n",
    "\n",
    "with tf.Session() as sess:\n",
    "    print(\"Value of y: \",sess.run(b))\n",
    "    print(\"Value of y1: \",sess.run(slope))\n",
    "\n",
    "\n",
    "    plt.plot(sess.run(b),sess.run(slope))\n",
    "    plt.axis([0,6,0,5])\n",
    "    plt.show()\n",
    "\n",
    "\n",
    "# RMSE = sqrt(mean((y-y_pred).^2))\n",
    "\n",
    "\n",
    "    cost = tf.reduce_sum(tf.pow(slope-b, 2))/(len(sess.run(a)))\n",
    "    cost = tf.sqrt(cost)\n",
    "               \n",
    "    print(\"Root mean square error:\",sess.run(cost))"
   ]
  }
 ],
 "metadata": {
  "kernelspec": {
   "display_name": "Python 3",
   "language": "python",
   "name": "python3"
  },
  "language_info": {
   "codemirror_mode": {
    "name": "ipython",
    "version": 3
   },
   "file_extension": ".py",
   "mimetype": "text/x-python",
   "name": "python",
   "nbconvert_exporter": "python",
   "pygments_lexer": "ipython3",
   "version": "3.6.1"
  }
 },
 "nbformat": 4,
 "nbformat_minor": 2
}
